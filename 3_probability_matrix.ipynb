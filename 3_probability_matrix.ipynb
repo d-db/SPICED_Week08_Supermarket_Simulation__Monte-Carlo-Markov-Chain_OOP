{
 "cells": [
  {
   "cell_type": "code",
   "execution_count": 1,
   "metadata": {
    "collapsed": true
   },
   "outputs": [],
   "source": [
    "import sys\n",
    "\n",
    "import pandas as pd\n",
    "from datetime import datetime, date, timedelta, time\n",
    "import seaborn as sns\n",
    "import pickle\n",
    "import warnings\n",
    "import random\n",
    "from faker import Faker\n",
    "\n",
    "f = Faker()\n",
    "name = f.name()\n",
    "\n",
    "warnings.filterwarnings('ignore')"
   ]
  },
  {
   "cell_type": "code",
   "execution_count": 3,
   "outputs": [],
   "source": [
    "with open('./data/full_df.bin', 'rb') as f:\n",
    "    df = pickle.load(f)"
   ],
   "metadata": {
    "collapsed": false
   }
  },
  {
   "cell_type": "code",
   "execution_count": 4,
   "outputs": [
    {
     "data": {
      "text/plain": "  customer_no           timestamp    before  shopping_duration     after  \\\n0       mon_1 2019-09-02 07:03:00     dairy                120     dairy   \n1       mon_1 2019-09-02 07:04:00     dairy                120  checkout   \n2       mon_1 2019-09-02 07:05:00  checkout                120       NaN   \n3       mon_2 2019-09-02 07:03:00     dairy                180     dairy   \n4       mon_2 2019-09-02 07:04:00     dairy                180     dairy   \n\n  first_or_following  hour  \n0              first     7  \n1          following     7  \n2          following     7  \n3              first     7  \n4          following     7  ",
      "text/html": "<div>\n<style scoped>\n    .dataframe tbody tr th:only-of-type {\n        vertical-align: middle;\n    }\n\n    .dataframe tbody tr th {\n        vertical-align: top;\n    }\n\n    .dataframe thead th {\n        text-align: right;\n    }\n</style>\n<table border=\"1\" class=\"dataframe\">\n  <thead>\n    <tr style=\"text-align: right;\">\n      <th></th>\n      <th>customer_no</th>\n      <th>timestamp</th>\n      <th>before</th>\n      <th>shopping_duration</th>\n      <th>after</th>\n      <th>first_or_following</th>\n      <th>hour</th>\n    </tr>\n  </thead>\n  <tbody>\n    <tr>\n      <th>0</th>\n      <td>mon_1</td>\n      <td>2019-09-02 07:03:00</td>\n      <td>dairy</td>\n      <td>120</td>\n      <td>dairy</td>\n      <td>first</td>\n      <td>7</td>\n    </tr>\n    <tr>\n      <th>1</th>\n      <td>mon_1</td>\n      <td>2019-09-02 07:04:00</td>\n      <td>dairy</td>\n      <td>120</td>\n      <td>checkout</td>\n      <td>following</td>\n      <td>7</td>\n    </tr>\n    <tr>\n      <th>2</th>\n      <td>mon_1</td>\n      <td>2019-09-02 07:05:00</td>\n      <td>checkout</td>\n      <td>120</td>\n      <td>NaN</td>\n      <td>following</td>\n      <td>7</td>\n    </tr>\n    <tr>\n      <th>3</th>\n      <td>mon_2</td>\n      <td>2019-09-02 07:03:00</td>\n      <td>dairy</td>\n      <td>180</td>\n      <td>dairy</td>\n      <td>first</td>\n      <td>7</td>\n    </tr>\n    <tr>\n      <th>4</th>\n      <td>mon_2</td>\n      <td>2019-09-02 07:04:00</td>\n      <td>dairy</td>\n      <td>180</td>\n      <td>dairy</td>\n      <td>following</td>\n      <td>7</td>\n    </tr>\n  </tbody>\n</table>\n</div>"
     },
     "execution_count": 4,
     "metadata": {},
     "output_type": "execute_result"
    }
   ],
   "source": [
    "df.head()"
   ],
   "metadata": {
    "collapsed": false
   }
  },
  {
   "cell_type": "markdown",
   "source": [
    "### 1. Calculate the transition probabilities"
   ],
   "metadata": {
    "collapsed": false
   }
  },
  {
   "cell_type": "code",
   "execution_count": 5,
   "outputs": [],
   "source": [
    "probabilities = pd.crosstab(df['after'], df['before'], normalize=0)\n",
    "probabilities"
   ],
   "metadata": {
    "collapsed": false
   }
  },
  {
   "cell_type": "code",
   "execution_count": 6,
   "outputs": [
    {
     "data": {
      "text/plain": "before       dairy    drinks     fruit    spices\nafter                                           \ncheckout  0.247011  0.281800  0.344124  0.127065\ndairy     0.837651  0.006781  0.077976  0.077592\ndrinks    0.121286  0.678201  0.081207  0.119306\nfruit     0.089513  0.086381  0.766417  0.057688\nspices    0.185305  0.171707  0.130708  0.512279",
      "text/html": "<div>\n<style scoped>\n    .dataframe tbody tr th:only-of-type {\n        vertical-align: middle;\n    }\n\n    .dataframe tbody tr th {\n        vertical-align: top;\n    }\n\n    .dataframe thead th {\n        text-align: right;\n    }\n</style>\n<table border=\"1\" class=\"dataframe\">\n  <thead>\n    <tr style=\"text-align: right;\">\n      <th>before</th>\n      <th>dairy</th>\n      <th>drinks</th>\n      <th>fruit</th>\n      <th>spices</th>\n    </tr>\n    <tr>\n      <th>after</th>\n      <th></th>\n      <th></th>\n      <th></th>\n      <th></th>\n    </tr>\n  </thead>\n  <tbody>\n    <tr>\n      <th>checkout</th>\n      <td>0.247011</td>\n      <td>0.281800</td>\n      <td>0.344124</td>\n      <td>0.127065</td>\n    </tr>\n    <tr>\n      <th>dairy</th>\n      <td>0.837651</td>\n      <td>0.006781</td>\n      <td>0.077976</td>\n      <td>0.077592</td>\n    </tr>\n    <tr>\n      <th>drinks</th>\n      <td>0.121286</td>\n      <td>0.678201</td>\n      <td>0.081207</td>\n      <td>0.119306</td>\n    </tr>\n    <tr>\n      <th>fruit</th>\n      <td>0.089513</td>\n      <td>0.086381</td>\n      <td>0.766417</td>\n      <td>0.057688</td>\n    </tr>\n    <tr>\n      <th>spices</th>\n      <td>0.185305</td>\n      <td>0.171707</td>\n      <td>0.130708</td>\n      <td>0.512279</td>\n    </tr>\n  </tbody>\n</table>\n</div>"
     },
     "execution_count": 6,
     "metadata": {},
     "output_type": "execute_result"
    }
   ],
   "source": [
    "probabilities"
   ],
   "metadata": {
    "collapsed": false
   }
  },
  {
   "cell_type": "code",
   "execution_count": 7,
   "outputs": [],
   "source": [
    "# Save Transition Probabilities\n",
    "with open('./data/probabilities.bin', 'wb') as f:\n",
    "    pickle.dump(probabilities, f)"
   ],
   "metadata": {
    "collapsed": false
   }
  },
  {
   "cell_type": "code",
   "execution_count": 8,
   "outputs": [
    {
     "data": {
      "text/plain": "before       dairy    drinks     fruit    spices  Total\nafter                                                  \ncheckout  0.247011  0.281800  0.344124  0.127065    1.0\ndairy     0.837651  0.006781  0.077976  0.077592    1.0\ndrinks    0.121286  0.678201  0.081207  0.119306    1.0\nfruit     0.089513  0.086381  0.766417  0.057688    1.0\nspices    0.185305  0.171707  0.130708  0.512279    1.0\nTotal     1.480767  1.224869  1.400432  0.893931    5.0",
      "text/html": "<div>\n<style scoped>\n    .dataframe tbody tr th:only-of-type {\n        vertical-align: middle;\n    }\n\n    .dataframe tbody tr th {\n        vertical-align: top;\n    }\n\n    .dataframe thead th {\n        text-align: right;\n    }\n</style>\n<table border=\"1\" class=\"dataframe\">\n  <thead>\n    <tr style=\"text-align: right;\">\n      <th>before</th>\n      <th>dairy</th>\n      <th>drinks</th>\n      <th>fruit</th>\n      <th>spices</th>\n      <th>Total</th>\n    </tr>\n    <tr>\n      <th>after</th>\n      <th></th>\n      <th></th>\n      <th></th>\n      <th></th>\n      <th></th>\n    </tr>\n  </thead>\n  <tbody>\n    <tr>\n      <th>checkout</th>\n      <td>0.247011</td>\n      <td>0.281800</td>\n      <td>0.344124</td>\n      <td>0.127065</td>\n      <td>1.0</td>\n    </tr>\n    <tr>\n      <th>dairy</th>\n      <td>0.837651</td>\n      <td>0.006781</td>\n      <td>0.077976</td>\n      <td>0.077592</td>\n      <td>1.0</td>\n    </tr>\n    <tr>\n      <th>drinks</th>\n      <td>0.121286</td>\n      <td>0.678201</td>\n      <td>0.081207</td>\n      <td>0.119306</td>\n      <td>1.0</td>\n    </tr>\n    <tr>\n      <th>fruit</th>\n      <td>0.089513</td>\n      <td>0.086381</td>\n      <td>0.766417</td>\n      <td>0.057688</td>\n      <td>1.0</td>\n    </tr>\n    <tr>\n      <th>spices</th>\n      <td>0.185305</td>\n      <td>0.171707</td>\n      <td>0.130708</td>\n      <td>0.512279</td>\n      <td>1.0</td>\n    </tr>\n    <tr>\n      <th>Total</th>\n      <td>1.480767</td>\n      <td>1.224869</td>\n      <td>1.400432</td>\n      <td>0.893931</td>\n      <td>5.0</td>\n    </tr>\n  </tbody>\n</table>\n</div>"
     },
     "execution_count": 8,
     "metadata": {},
     "output_type": "execute_result"
    }
   ],
   "source": [
    "# Add totals to row and\n",
    "total = probabilities.append(pd.Series(probabilities.sum(numeric_only=True), index=probabilities.columns, name='Total'))\n",
    "total['Total'] = total.sum(axis=1)\n",
    "total"
   ],
   "metadata": {
    "collapsed": false
   }
  },
  {
   "cell_type": "markdown",
   "source": [
    "### 2. Initial State Probablities"
   ],
   "metadata": {
    "collapsed": false
   }
  },
  {
   "cell_type": "code",
   "execution_count": 25,
   "outputs": [
    {
     "data": {
      "text/plain": "{'fruit': 0.38, 'dairy': 0.29, 'spices': 0.18, 'drinks': 0.15}"
     },
     "execution_count": 25,
     "metadata": {},
     "output_type": "execute_result"
    }
   ],
   "source": [
    "df_first = df[df[\"first_or_following\"] == \"first\"]\n",
    "\n",
    "initial_state = df_first[\"before\"].value_counts()\n",
    "\n",
    "initial_state_probabilities = dict()\n",
    "\n",
    "for i, j in zip(initial_state, initial_state.index):\n",
    "    initial_state_probabilities[j] = round(i / initial_state.sum(), 2)\n",
    "\n",
    "initial_state_probabilities"
   ],
   "metadata": {
    "collapsed": false
   }
  },
  {
   "cell_type": "code",
   "execution_count": 38,
   "outputs": [],
   "source": [
    "# Save Initial State Probabilities\n",
    "with open('./data/initial_state.bin', 'wb') as f:\n",
    "    pickle.dump(initial_state_probabilities, f)"
   ],
   "metadata": {
    "collapsed": false
   }
  },
  {
   "cell_type": "markdown",
   "source": [
    "### 3. Writing a Customer class"
   ],
   "metadata": {
    "collapsed": false
   }
  },
  {
   "cell_type": "code",
   "execution_count": 39,
   "outputs": [],
   "source": [
    "class Customer:\n",
    "    \"\"\"\n",
    "    a single customer that moves through the supermarket\n",
    "    in a MCMC simulation\n",
    "    \"\"\"\n",
    "    def __init__(self, name, initial_state_probs, transition_probs, budget=100):\n",
    "        self.name = name\n",
    "        self.state = self._initial_state(initial_state_probs)\n",
    "        self.budget = budget\n",
    "        self.transition_probs = transition_probs\n",
    "\n",
    "    def __repr__(self):\n",
    "        return f'<Customer {self.name} in {self.state}>'\n",
    "\n",
    "    def _initial_state(self, initial_state_probs):\n",
    "        areas = [i for i in initial_state_probs.keys()]\n",
    "        probs = [i for i in initial_state_probs.values()]\n",
    "\n",
    "        return random.choices(areas, weights=probs, k=1)[0]\n",
    "\n",
    "    def next_state(self):\n",
    "        '''\n",
    "        Propagates the customer to the next state.\n",
    "        Returns nothing.\n",
    "        '''\n",
    "        if self.state != \"checkout\":\n",
    "            # Slice the column with the probabilities for the next area\n",
    "            column = self.transition_probs.loc[:,self.state]\n",
    "            # Remove the row with probability 0\n",
    "            column = column[column.iloc[:] > 0]\n",
    "\n",
    "            list_state = list()\n",
    "            list_prop = list()\n",
    "\n",
    "            # Extract the name of the area and the probability and add the two values to different lists\n",
    "            for i, j in zip(column.index, column.iloc[:]):\n",
    "                list_state.append(i)\n",
    "                list_prop.append(round(j, 2))\n",
    "\n",
    "            # Pass the list to random.choices and generate a new state\n",
    "            self.state = random.choices(list_state, weights=list_prop, k=1)[0]\n",
    "        else:\n",
    "            sys.exit(\"The customer has already left the supermarket\")\n",
    "\n",
    "\n",
    "    def is_active(self):\n",
    "        \"\"\"Returns True if the customer has not reached the checkout yet.\"\"\"\n",
    "        return self.state != \"checkout\""
   ],
   "metadata": {
    "collapsed": false
   }
  },
  {
   "cell_type": "code",
   "execution_count": 37,
   "outputs": [
    {
     "name": "stdout",
     "output_type": "stream",
     "text": [
      "With this probability matrix visits the average customer 5.1 areas before checkout.\n",
      "In the original data average customers visit 3.3 areas before checkout.\n"
     ]
    }
   ],
   "source": [
    "def test_probability_matrix(no_of_customers, initial_state_probs, probability_matrix):\n",
    "\n",
    "    sum_of_areas_visited = 0\n",
    "\n",
    "    for _ in range(no_of_customers):\n",
    "\n",
    "        cust = Customer(\"Mrs. X\", initial_state_probs, probability_matrix)\n",
    "\n",
    "        while cust.is_active():\n",
    "            cust.next_state()\n",
    "            sum_of_areas_visited += 1\n",
    "\n",
    "    print(f\"With this probability matrix visits the average customer {round(sum_of_areas_visited/no_of_customers, 1)} areas before checkout.\\n\"\n",
    "          f\"In the original data average customers visit 3.3 areas before checkout.\")\n",
    "\n",
    "test_probability_matrix(1000, initial_state_probabilities, probabilities)"
   ],
   "metadata": {
    "collapsed": false
   }
  },
  {
   "cell_type": "code",
   "execution_count": 50,
   "outputs": [],
   "source": [
    "cust1 = Customer(\"Jake\", initial_state_probabilities, probabilities, 50)"
   ],
   "metadata": {
    "collapsed": false
   }
  },
  {
   "cell_type": "code",
   "execution_count": null,
   "outputs": [],
   "source": [
    "cust2 = Customer(\"Margaret\", \"spices\", probabilities)\n",
    "\n",
    "for i in range(50):\n",
    "    print(cust2)\n",
    "    cust2.next_state()"
   ],
   "metadata": {
    "collapsed": false
   }
  }
 ],
 "metadata": {
  "kernelspec": {
   "display_name": "Python 3",
   "language": "python",
   "name": "python3"
  },
  "language_info": {
   "codemirror_mode": {
    "name": "ipython",
    "version": 2
   },
   "file_extension": ".py",
   "mimetype": "text/x-python",
   "name": "python",
   "nbconvert_exporter": "python",
   "pygments_lexer": "ipython2",
   "version": "2.7.6"
  }
 },
 "nbformat": 4,
 "nbformat_minor": 0
}
