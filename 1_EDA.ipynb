{
 "cells": [
  {
   "cell_type": "code",
   "execution_count": 1,
   "outputs": [],
   "source": [
    "import pandas as pd\n",
    "from datetime import datetime, date, timedelta, time\n",
    "import pickle\n",
    "import warnings\n",
    "\n",
    "warnings.filterwarnings('ignore')"
   ],
   "metadata": {
    "collapsed": false
   }
  },
  {
   "cell_type": "markdown",
   "source": [
    "At the DOODL Supermarket chain we would like to understand our customers better in order to optimize the layout, staffing and service of our\n",
    "supermarkets. We would like you and your team to model the way customers move through a representative shop. Our main business goals are:\n",
    "* understand customer behavior\n",
    "* explain customer behavior to our non-data staff\n",
    "* optimize staffing so that the queues do not get unnecessary long\n",
    "\n",
    "The customers can move between these areas freely. Sooner or later, they will enter the checkout area. Once they do, they are considered to have\n",
    "left the shop."
   ],
   "metadata": {
    "collapsed": false
   }
  },
  {
   "cell_type": "code",
   "execution_count": 2,
   "outputs": [],
   "source": [
    "monday = pd.read_csv(\"./data/monday.csv\", delimiter=\";\", parse_dates=['timestamp'])"
   ],
   "metadata": {
    "collapsed": false
   }
  },
  {
   "cell_type": "code",
   "execution_count": 3,
   "outputs": [
    {
     "data": {
      "text/plain": "            timestamp  customer_no location\n0 2019-09-02 07:03:00            1    dairy\n1 2019-09-02 07:03:00            2    dairy\n2 2019-09-02 07:04:00            3    dairy\n3 2019-09-02 07:04:00            4    dairy\n4 2019-09-02 07:04:00            5   spices",
      "text/html": "<div>\n<style scoped>\n    .dataframe tbody tr th:only-of-type {\n        vertical-align: middle;\n    }\n\n    .dataframe tbody tr th {\n        vertical-align: top;\n    }\n\n    .dataframe thead th {\n        text-align: right;\n    }\n</style>\n<table border=\"1\" class=\"dataframe\">\n  <thead>\n    <tr style=\"text-align: right;\">\n      <th></th>\n      <th>timestamp</th>\n      <th>customer_no</th>\n      <th>location</th>\n    </tr>\n  </thead>\n  <tbody>\n    <tr>\n      <th>0</th>\n      <td>2019-09-02 07:03:00</td>\n      <td>1</td>\n      <td>dairy</td>\n    </tr>\n    <tr>\n      <th>1</th>\n      <td>2019-09-02 07:03:00</td>\n      <td>2</td>\n      <td>dairy</td>\n    </tr>\n    <tr>\n      <th>2</th>\n      <td>2019-09-02 07:04:00</td>\n      <td>3</td>\n      <td>dairy</td>\n    </tr>\n    <tr>\n      <th>3</th>\n      <td>2019-09-02 07:04:00</td>\n      <td>4</td>\n      <td>dairy</td>\n    </tr>\n    <tr>\n      <th>4</th>\n      <td>2019-09-02 07:04:00</td>\n      <td>5</td>\n      <td>spices</td>\n    </tr>\n  </tbody>\n</table>\n</div>"
     },
     "execution_count": 3,
     "metadata": {},
     "output_type": "execute_result"
    }
   ],
   "source": [
    "monday.head()"
   ],
   "metadata": {
    "collapsed": false
   }
  },
  {
   "cell_type": "code",
   "execution_count": 4,
   "outputs": [
    {
     "data": {
      "text/plain": "               timestamp  customer_no  location\n4879 2019-09-02 21:49:00         1442  checkout\n4880 2019-09-02 21:49:00         1444  checkout\n4881 2019-09-02 21:49:00         1445     dairy\n4882 2019-09-02 21:50:00         1446     dairy\n4883 2019-09-02 21:50:00         1447     fruit",
      "text/html": "<div>\n<style scoped>\n    .dataframe tbody tr th:only-of-type {\n        vertical-align: middle;\n    }\n\n    .dataframe tbody tr th {\n        vertical-align: top;\n    }\n\n    .dataframe thead th {\n        text-align: right;\n    }\n</style>\n<table border=\"1\" class=\"dataframe\">\n  <thead>\n    <tr style=\"text-align: right;\">\n      <th></th>\n      <th>timestamp</th>\n      <th>customer_no</th>\n      <th>location</th>\n    </tr>\n  </thead>\n  <tbody>\n    <tr>\n      <th>4879</th>\n      <td>2019-09-02 21:49:00</td>\n      <td>1442</td>\n      <td>checkout</td>\n    </tr>\n    <tr>\n      <th>4880</th>\n      <td>2019-09-02 21:49:00</td>\n      <td>1444</td>\n      <td>checkout</td>\n    </tr>\n    <tr>\n      <th>4881</th>\n      <td>2019-09-02 21:49:00</td>\n      <td>1445</td>\n      <td>dairy</td>\n    </tr>\n    <tr>\n      <th>4882</th>\n      <td>2019-09-02 21:50:00</td>\n      <td>1446</td>\n      <td>dairy</td>\n    </tr>\n    <tr>\n      <th>4883</th>\n      <td>2019-09-02 21:50:00</td>\n      <td>1447</td>\n      <td>fruit</td>\n    </tr>\n  </tbody>\n</table>\n</div>"
     },
     "execution_count": 4,
     "metadata": {},
     "output_type": "execute_result"
    }
   ],
   "source": [
    "monday.tail()"
   ],
   "metadata": {
    "collapsed": false
   }
  },
  {
   "cell_type": "code",
   "execution_count": 5,
   "outputs": [
    {
     "data": {
      "text/plain": "(4884, 3)"
     },
     "execution_count": 5,
     "metadata": {},
     "output_type": "execute_result"
    }
   ],
   "source": [
    "monday.shape"
   ],
   "metadata": {
    "collapsed": false
   }
  },
  {
   "cell_type": "code",
   "execution_count": 6,
   "outputs": [
    {
     "data": {
      "text/plain": "1447"
     },
     "execution_count": 6,
     "metadata": {},
     "output_type": "execute_result"
    }
   ],
   "source": [
    "monday[\"customer_no\"].nunique()"
   ],
   "metadata": {
    "collapsed": false
   }
  },
  {
   "cell_type": "markdown",
   "source": [
    "**Observation:**\n",
    "- On monday, there were 1447 customers in the shop"
   ],
   "metadata": {
    "collapsed": false
   }
  },
  {
   "cell_type": "code",
   "execution_count": 7,
   "outputs": [
    {
     "data": {
      "text/plain": "checkout    1437\nfruit       1005\ndairy        895\ndrinks       797\nspices       750\nName: location, dtype: int64"
     },
     "execution_count": 7,
     "metadata": {},
     "output_type": "execute_result"
    }
   ],
   "source": [
    "monday[\"location\"].value_counts()"
   ],
   "metadata": {
    "collapsed": false
   }
  },
  {
   "cell_type": "markdown",
   "source": [
    "**Observation**:\n",
    "- Apparently only 1437 customers were registered at the checkout - how can the difference of 10 customers be explained?"
   ],
   "metadata": {
    "collapsed": false
   }
  },
  {
   "cell_type": "code",
   "execution_count": 8,
   "outputs": [
    {
     "data": {
      "text/plain": "[1430, 1433, 1437, 1439, 1440, 1441, 1443, 1445, 1446, 1447]"
     },
     "execution_count": 8,
     "metadata": {},
     "output_type": "execute_result"
    }
   ],
   "source": [
    "mask = monday[\"location\"] == \"checkout\"\n",
    "checkout_customers = monday[mask][\"customer_no\"].tolist()\n",
    "no_checkout_customers = list()\n",
    "\n",
    "for i in range(1, monday[\"customer_no\"].nunique() + 1):\n",
    "    if i not in checkout_customers:\n",
    "        no_checkout_customers.append(i)\n",
    "\n",
    "no_checkout_customers"
   ],
   "metadata": {
    "collapsed": false
   }
  },
  {
   "cell_type": "markdown",
   "source": [
    "**Observation**:\n",
    "- These ten customers were not registered at the checkout on Monday\n",
    "- They arrived all pretty late, so that their checkout couldn't be registered\n",
    "- Approach: Add a new line for all these customers with a checkout at 21:55"
   ],
   "metadata": {
    "collapsed": false
   }
  },
  {
   "cell_type": "code",
   "execution_count": 9,
   "outputs": [
    {
     "name": "stdout",
     "output_type": "stream",
     "text": [
      "                                 customer_no  location\n",
      "customer_no timestamp                                 \n",
      "1           2019-09-02 07:03:00            1     dairy\n",
      "            2019-09-02 07:04:00            1     dairy\n",
      "            2019-09-02 07:05:00            1  checkout\n",
      "2           2019-09-02 07:03:00            2     dairy\n",
      "            2019-09-02 07:04:00            2     dairy\n",
      "...                                      ...       ...\n",
      "1444        2019-09-02 21:48:00         1444    spices\n",
      "            2019-09-02 21:49:00         1444  checkout\n",
      "1445        2019-09-02 21:49:00         1445     dairy\n",
      "1446        2019-09-02 21:50:00         1446     dairy\n",
      "1447        2019-09-02 21:50:00         1447     fruit\n",
      "\n",
      "[10765 rows x 2 columns]\n",
      "                                 customer_no  location\n",
      "customer_no timestamp                                 \n",
      "1           2019-09-03 07:02:00            1     fruit\n",
      "            2019-09-03 07:03:00            1     fruit\n",
      "            2019-09-03 07:04:00            1     fruit\n",
      "            2019-09-03 07:05:00            1    drinks\n",
      "            2019-09-03 07:06:00            1    drinks\n",
      "...                                      ...       ...\n",
      "1421        2019-09-03 21:46:00         1421     fruit\n",
      "            2019-09-03 21:47:00         1421    drinks\n",
      "            2019-09-03 21:48:00         1421  checkout\n",
      "1422        2019-09-03 21:46:00         1422    spices\n",
      "            2019-09-03 21:47:00         1422     dairy\n",
      "\n",
      "[10123 rows x 2 columns]\n",
      "                                 customer_no  location\n",
      "customer_no timestamp                                 \n",
      "1           2019-09-04 07:00:00            1     fruit\n",
      "            2019-09-04 07:01:00            1     fruit\n",
      "            2019-09-04 07:02:00            1  checkout\n",
      "2           2019-09-04 07:00:00            2     dairy\n",
      "            2019-09-04 07:01:00            2     dairy\n",
      "...                                      ...       ...\n",
      "1530        2019-09-04 21:49:00         1530     fruit\n",
      "1531        2019-09-04 21:46:00         1531    drinks\n",
      "            2019-09-04 21:47:00         1531    drinks\n",
      "            2019-09-04 21:48:00         1531    drinks\n",
      "            2019-09-04 21:49:00         1531  checkout\n",
      "\n",
      "[10831 rows x 2 columns]\n",
      "                                 customer_no  location\n",
      "customer_no timestamp                                 \n",
      "1           2019-09-05 07:00:00            1    drinks\n",
      "            2019-09-05 07:01:00            1    drinks\n",
      "            2019-09-05 07:02:00            1  checkout\n",
      "2           2019-09-05 07:01:00            2     fruit\n",
      "            2019-09-05 07:02:00            2     fruit\n",
      "...                                      ...       ...\n",
      "1533        2019-09-05 21:48:00         1533     dairy\n",
      "1534        2019-09-05 21:48:00         1534     fruit\n",
      "            2019-09-05 21:49:00         1534  checkout\n",
      "1535        2019-09-05 21:48:00         1535    spices\n",
      "            2019-09-05 21:49:00         1535  checkout\n",
      "\n",
      "[11116 rows x 2 columns]\n",
      "                                 customer_no  location\n",
      "customer_no timestamp                                 \n",
      "1           2019-09-06 07:00:00            1     dairy\n",
      "            2019-09-06 07:01:00            1     dairy\n",
      "            2019-09-06 07:02:00            1     dairy\n",
      "            2019-09-06 07:03:00            1     dairy\n",
      "            2019-09-06 07:04:00            1    spices\n",
      "...                                      ...       ...\n",
      "1508        2019-09-06 21:48:00         1508     dairy\n",
      "            2019-09-06 21:49:00         1508     dairy\n",
      "            2019-09-06 21:50:00         1508  checkout\n",
      "1509        2019-09-06 21:50:00         1509    drinks\n",
      "1510        2019-09-06 21:50:00         1510    spices\n",
      "\n",
      "[11068 rows x 2 columns]\n"
     ]
    }
   ],
   "source": [
    "def main(list, file_path):\n",
    "\n",
    "    full_dataframe = 0\n",
    "    no_checkout = {}\n",
    "\n",
    "    counter = 0\n",
    "\n",
    "    for day in list:\n",
    "        path = file_path + day + \".csv\"\n",
    "        prefix = day[:3] + \"_\"\n",
    "        df = pd.read_csv(path, delimiter=\";\", parse_dates=['timestamp'])\n",
    "\n",
    "        # Resample the data in order to get an observation for every minute\n",
    "        df = df.set_index('timestamp').groupby('customer_no').apply(resample_customer)\n",
    "        print(df)\n",
    "        df = df.drop(\"customer_no\", axis=1).reset_index()\n",
    "\n",
    "        # Get the customer numbers of customers that were not registered checking out\n",
    "        no_checkout_customers = get_no_checkout_customer_numbers(df)\n",
    "\n",
    "        # Adding the customer_no that were not registered at checkout to the dict\n",
    "        no_checkout[prefix] = no_checkout_customers\n",
    "\n",
    "        # Add rows with checkout time to the dataframe\n",
    "        df = add_row_with_checkout_time(df, no_checkout_customers)\n",
    "\n",
    "        # Add a new column with the shopping duration in seconds\n",
    "        df = df.groupby('customer_no').apply(add_shopping_duration)\n",
    "\n",
    "        # Resample the data in order to get an observation for every minute\n",
    "        # df = df.groupby('customer_no').apply(resample_customer)\n",
    "\n",
    "        # Add a 'after'-column\n",
    "        df = df.groupby('customer_no').apply(add_after_column)\n",
    "\n",
    "        # Add 'first' or 'following'\n",
    "        df = df.groupby('customer_no').apply(first_or_following)\n",
    "\n",
    "        # Add a prefix to the customer_no\n",
    "        df = add_prefix(df, prefix)\n",
    "\n",
    "        # Add a column with the extracted hour\n",
    "        df = add_hour(df)\n",
    "\n",
    "        counter += 1\n",
    "\n",
    "        if counter == 1:\n",
    "            full_dataframe = df\n",
    "        else:\n",
    "            full_dataframe = pd.concat([full_dataframe, df], ignore_index=True)\n",
    "\n",
    "    # Rename column 'location' to 'before'\n",
    "    full_dataframe = full_dataframe.rename(columns={\"location\": \"before\"})\n",
    "\n",
    "    #full_dataframe['after'] = full_dataframe['after'].fillna(\"checkout\")\n",
    "\n",
    "    return full_dataframe, no_checkout\n",
    "\n",
    "def resample_customer(group):\n",
    "    group = group.resample('1min').ffill()\n",
    "\n",
    "    return group\n",
    "\n",
    "def get_no_checkout_customer_numbers(df):\n",
    "    mask = df[\"location\"] == \"checkout\"\n",
    "    checkout_customers = df[mask][\"customer_no\"].tolist()\n",
    "    no_checkout_customers = list()\n",
    "\n",
    "    for i in range(1, df[\"customer_no\"].nunique() + 1):\n",
    "        if i not in checkout_customers:\n",
    "            no_checkout_customers.append(i)\n",
    "\n",
    "    return no_checkout_customers\n",
    "\n",
    "\n",
    "def add_row_with_checkout_time(df, no_checkout):\n",
    "    #Take the last timestamp of the dataframe and add five minutes\n",
    "    date = df[\"timestamp\"].iloc[-1] + timedelta(minutes=5)\n",
    "    location = \"checkout\"\n",
    "\n",
    "    for i in no_checkout:\n",
    "        new_row = pd.Series({'timestamp': date, 'customer_no':i, 'location': location})\n",
    "        #append row to the dataframe\n",
    "        df = df.append(new_row, ignore_index=True)\n",
    "\n",
    "    return df\n",
    "\n",
    "def add_shopping_duration(group):\n",
    "\n",
    "    # set all cost values to the mean\n",
    "    group['shopping_duration'] = (group[\"timestamp\"].max() - group[\"timestamp\"].min()).seconds\n",
    "\n",
    "    return group\n",
    "\n",
    "def add_after_column(group):\n",
    "\n",
    "    # set all cost values to the mean\n",
    "    group['after'] = group[\"location\"].shift(-1)\n",
    "\n",
    "    return group\n",
    "\n",
    "def first_or_following(group):\n",
    "    first_row = group.iloc[:1,:]\n",
    "    next_rows = group.iloc[1:,:]\n",
    "\n",
    "    first_row[\"first_or_following\"] = \"first\"\n",
    "    next_rows[\"first_or_following\"] = \"following\"\n",
    "\n",
    "    group = pd.concat([first_row, next_rows])\n",
    "    return group\n",
    "\n",
    "def add_prefix(df, prefix):\n",
    "    prefix = prefix\n",
    "    df['customer_no'] = prefix + df['customer_no'].astype(str)\n",
    "\n",
    "    return df\n",
    "\n",
    "def add_hour(df):\n",
    "    df[\"hour\"] = df[\"timestamp\"].dt.hour\n",
    "\n",
    "    return df\n",
    "\n",
    "\n",
    "weekdays = [\"monday\", \"tuesday\", \"wednesday\", \"thursday\", \"friday\"]\n",
    "\n",
    "df, no_checkout = main(weekdays, \"./data/\")"
   ],
   "metadata": {
    "collapsed": false
   }
  },
  {
   "cell_type": "code",
   "execution_count": 10,
   "outputs": [
    {
     "data": {
      "text/plain": "(53931, 7)"
     },
     "execution_count": 10,
     "metadata": {},
     "output_type": "execute_result"
    }
   ],
   "source": [
    "df.shape"
   ],
   "metadata": {
    "collapsed": false
   }
  },
  {
   "cell_type": "code",
   "execution_count": 11,
   "outputs": [
    {
     "data": {
      "text/plain": "   customer_no           timestamp    before  shopping_duration     after  \\\n17       mon_6 2019-09-02 07:04:00    spices               1500     dairy   \n18       mon_6 2019-09-02 07:05:00     dairy               1500     dairy   \n19       mon_6 2019-09-02 07:06:00     dairy               1500     dairy   \n20       mon_6 2019-09-02 07:07:00     dairy               1500     dairy   \n21       mon_6 2019-09-02 07:08:00     dairy               1500     dairy   \n22       mon_6 2019-09-02 07:09:00     dairy               1500     dairy   \n23       mon_6 2019-09-02 07:10:00     dairy               1500     dairy   \n24       mon_6 2019-09-02 07:11:00     dairy               1500     dairy   \n25       mon_6 2019-09-02 07:12:00     dairy               1500     dairy   \n26       mon_6 2019-09-02 07:13:00     dairy               1500     dairy   \n27       mon_6 2019-09-02 07:14:00     dairy               1500     dairy   \n28       mon_6 2019-09-02 07:15:00     dairy               1500     dairy   \n29       mon_6 2019-09-02 07:16:00     dairy               1500    spices   \n30       mon_6 2019-09-02 07:17:00    spices               1500    drinks   \n31       mon_6 2019-09-02 07:18:00    drinks               1500    drinks   \n32       mon_6 2019-09-02 07:19:00    drinks               1500    drinks   \n33       mon_6 2019-09-02 07:20:00    drinks               1500    drinks   \n34       mon_6 2019-09-02 07:21:00    drinks               1500    drinks   \n35       mon_6 2019-09-02 07:22:00    drinks               1500    drinks   \n36       mon_6 2019-09-02 07:23:00    drinks               1500    drinks   \n37       mon_6 2019-09-02 07:24:00    drinks               1500    spices   \n38       mon_6 2019-09-02 07:25:00    spices               1500     dairy   \n39       mon_6 2019-09-02 07:26:00     dairy               1500    spices   \n40       mon_6 2019-09-02 07:27:00    spices               1500    spices   \n41       mon_6 2019-09-02 07:28:00    spices               1500  checkout   \n42       mon_6 2019-09-02 07:29:00  checkout               1500       NaN   \n\n   first_or_following  hour  \n17              first     7  \n18          following     7  \n19          following     7  \n20          following     7  \n21          following     7  \n22          following     7  \n23          following     7  \n24          following     7  \n25          following     7  \n26          following     7  \n27          following     7  \n28          following     7  \n29          following     7  \n30          following     7  \n31          following     7  \n32          following     7  \n33          following     7  \n34          following     7  \n35          following     7  \n36          following     7  \n37          following     7  \n38          following     7  \n39          following     7  \n40          following     7  \n41          following     7  \n42          following     7  ",
      "text/html": "<div>\n<style scoped>\n    .dataframe tbody tr th:only-of-type {\n        vertical-align: middle;\n    }\n\n    .dataframe tbody tr th {\n        vertical-align: top;\n    }\n\n    .dataframe thead th {\n        text-align: right;\n    }\n</style>\n<table border=\"1\" class=\"dataframe\">\n  <thead>\n    <tr style=\"text-align: right;\">\n      <th></th>\n      <th>customer_no</th>\n      <th>timestamp</th>\n      <th>before</th>\n      <th>shopping_duration</th>\n      <th>after</th>\n      <th>first_or_following</th>\n      <th>hour</th>\n    </tr>\n  </thead>\n  <tbody>\n    <tr>\n      <th>17</th>\n      <td>mon_6</td>\n      <td>2019-09-02 07:04:00</td>\n      <td>spices</td>\n      <td>1500</td>\n      <td>dairy</td>\n      <td>first</td>\n      <td>7</td>\n    </tr>\n    <tr>\n      <th>18</th>\n      <td>mon_6</td>\n      <td>2019-09-02 07:05:00</td>\n      <td>dairy</td>\n      <td>1500</td>\n      <td>dairy</td>\n      <td>following</td>\n      <td>7</td>\n    </tr>\n    <tr>\n      <th>19</th>\n      <td>mon_6</td>\n      <td>2019-09-02 07:06:00</td>\n      <td>dairy</td>\n      <td>1500</td>\n      <td>dairy</td>\n      <td>following</td>\n      <td>7</td>\n    </tr>\n    <tr>\n      <th>20</th>\n      <td>mon_6</td>\n      <td>2019-09-02 07:07:00</td>\n      <td>dairy</td>\n      <td>1500</td>\n      <td>dairy</td>\n      <td>following</td>\n      <td>7</td>\n    </tr>\n    <tr>\n      <th>21</th>\n      <td>mon_6</td>\n      <td>2019-09-02 07:08:00</td>\n      <td>dairy</td>\n      <td>1500</td>\n      <td>dairy</td>\n      <td>following</td>\n      <td>7</td>\n    </tr>\n    <tr>\n      <th>22</th>\n      <td>mon_6</td>\n      <td>2019-09-02 07:09:00</td>\n      <td>dairy</td>\n      <td>1500</td>\n      <td>dairy</td>\n      <td>following</td>\n      <td>7</td>\n    </tr>\n    <tr>\n      <th>23</th>\n      <td>mon_6</td>\n      <td>2019-09-02 07:10:00</td>\n      <td>dairy</td>\n      <td>1500</td>\n      <td>dairy</td>\n      <td>following</td>\n      <td>7</td>\n    </tr>\n    <tr>\n      <th>24</th>\n      <td>mon_6</td>\n      <td>2019-09-02 07:11:00</td>\n      <td>dairy</td>\n      <td>1500</td>\n      <td>dairy</td>\n      <td>following</td>\n      <td>7</td>\n    </tr>\n    <tr>\n      <th>25</th>\n      <td>mon_6</td>\n      <td>2019-09-02 07:12:00</td>\n      <td>dairy</td>\n      <td>1500</td>\n      <td>dairy</td>\n      <td>following</td>\n      <td>7</td>\n    </tr>\n    <tr>\n      <th>26</th>\n      <td>mon_6</td>\n      <td>2019-09-02 07:13:00</td>\n      <td>dairy</td>\n      <td>1500</td>\n      <td>dairy</td>\n      <td>following</td>\n      <td>7</td>\n    </tr>\n    <tr>\n      <th>27</th>\n      <td>mon_6</td>\n      <td>2019-09-02 07:14:00</td>\n      <td>dairy</td>\n      <td>1500</td>\n      <td>dairy</td>\n      <td>following</td>\n      <td>7</td>\n    </tr>\n    <tr>\n      <th>28</th>\n      <td>mon_6</td>\n      <td>2019-09-02 07:15:00</td>\n      <td>dairy</td>\n      <td>1500</td>\n      <td>dairy</td>\n      <td>following</td>\n      <td>7</td>\n    </tr>\n    <tr>\n      <th>29</th>\n      <td>mon_6</td>\n      <td>2019-09-02 07:16:00</td>\n      <td>dairy</td>\n      <td>1500</td>\n      <td>spices</td>\n      <td>following</td>\n      <td>7</td>\n    </tr>\n    <tr>\n      <th>30</th>\n      <td>mon_6</td>\n      <td>2019-09-02 07:17:00</td>\n      <td>spices</td>\n      <td>1500</td>\n      <td>drinks</td>\n      <td>following</td>\n      <td>7</td>\n    </tr>\n    <tr>\n      <th>31</th>\n      <td>mon_6</td>\n      <td>2019-09-02 07:18:00</td>\n      <td>drinks</td>\n      <td>1500</td>\n      <td>drinks</td>\n      <td>following</td>\n      <td>7</td>\n    </tr>\n    <tr>\n      <th>32</th>\n      <td>mon_6</td>\n      <td>2019-09-02 07:19:00</td>\n      <td>drinks</td>\n      <td>1500</td>\n      <td>drinks</td>\n      <td>following</td>\n      <td>7</td>\n    </tr>\n    <tr>\n      <th>33</th>\n      <td>mon_6</td>\n      <td>2019-09-02 07:20:00</td>\n      <td>drinks</td>\n      <td>1500</td>\n      <td>drinks</td>\n      <td>following</td>\n      <td>7</td>\n    </tr>\n    <tr>\n      <th>34</th>\n      <td>mon_6</td>\n      <td>2019-09-02 07:21:00</td>\n      <td>drinks</td>\n      <td>1500</td>\n      <td>drinks</td>\n      <td>following</td>\n      <td>7</td>\n    </tr>\n    <tr>\n      <th>35</th>\n      <td>mon_6</td>\n      <td>2019-09-02 07:22:00</td>\n      <td>drinks</td>\n      <td>1500</td>\n      <td>drinks</td>\n      <td>following</td>\n      <td>7</td>\n    </tr>\n    <tr>\n      <th>36</th>\n      <td>mon_6</td>\n      <td>2019-09-02 07:23:00</td>\n      <td>drinks</td>\n      <td>1500</td>\n      <td>drinks</td>\n      <td>following</td>\n      <td>7</td>\n    </tr>\n    <tr>\n      <th>37</th>\n      <td>mon_6</td>\n      <td>2019-09-02 07:24:00</td>\n      <td>drinks</td>\n      <td>1500</td>\n      <td>spices</td>\n      <td>following</td>\n      <td>7</td>\n    </tr>\n    <tr>\n      <th>38</th>\n      <td>mon_6</td>\n      <td>2019-09-02 07:25:00</td>\n      <td>spices</td>\n      <td>1500</td>\n      <td>dairy</td>\n      <td>following</td>\n      <td>7</td>\n    </tr>\n    <tr>\n      <th>39</th>\n      <td>mon_6</td>\n      <td>2019-09-02 07:26:00</td>\n      <td>dairy</td>\n      <td>1500</td>\n      <td>spices</td>\n      <td>following</td>\n      <td>7</td>\n    </tr>\n    <tr>\n      <th>40</th>\n      <td>mon_6</td>\n      <td>2019-09-02 07:27:00</td>\n      <td>spices</td>\n      <td>1500</td>\n      <td>spices</td>\n      <td>following</td>\n      <td>7</td>\n    </tr>\n    <tr>\n      <th>41</th>\n      <td>mon_6</td>\n      <td>2019-09-02 07:28:00</td>\n      <td>spices</td>\n      <td>1500</td>\n      <td>checkout</td>\n      <td>following</td>\n      <td>7</td>\n    </tr>\n    <tr>\n      <th>42</th>\n      <td>mon_6</td>\n      <td>2019-09-02 07:29:00</td>\n      <td>checkout</td>\n      <td>1500</td>\n      <td>NaN</td>\n      <td>following</td>\n      <td>7</td>\n    </tr>\n  </tbody>\n</table>\n</div>"
     },
     "execution_count": 11,
     "metadata": {},
     "output_type": "execute_result"
    }
   ],
   "source": [
    "df[df[\"customer_no\"] == \"mon_6\"]"
   ],
   "metadata": {
    "collapsed": false
   }
  },
  {
   "cell_type": "code",
   "execution_count": 12,
   "outputs": [],
   "source": [
    "def no_transformation(list, file_path):\n",
    "\n",
    "    full_dataframe_no_transition = 0\n",
    "    counter = 0\n",
    "\n",
    "    for day in list:\n",
    "        path = file_path + day + \".csv\"\n",
    "        prefix = day[:3] + \"_\"\n",
    "        df = pd.read_csv(path, delimiter=\";\", parse_dates=['timestamp'])\n",
    "\n",
    "        # Add a prefix to the customer_no\n",
    "        df = add_prefix(df, prefix)\n",
    "\n",
    "        counter += 1\n",
    "\n",
    "        if counter == 1:\n",
    "            full_dataframe_no_transition = df\n",
    "        else:\n",
    "            full_dataframe_no_transition = pd.concat([full_dataframe_no_transition, df], ignore_index=True)\n",
    "\n",
    "    return full_dataframe_no_transition\n",
    "\n",
    "def add_prefix(df, prefix):\n",
    "    prefix = prefix\n",
    "    df['customer_no'] = prefix + df['customer_no'].astype(str)\n",
    "\n",
    "    return df\n",
    "\n",
    "weekdays = [\"monday\", \"tuesday\", \"wednesday\", \"thursday\", \"friday\"]\n",
    "\n",
    "df_no_transition = no_transformation(weekdays, \"./data/\")"
   ],
   "metadata": {
    "collapsed": false
   }
  },
  {
   "cell_type": "code",
   "execution_count": 13,
   "outputs": [],
   "source": [
    "with open('./data/full_df.bin', 'wb') as f:\n",
    "    pickle.dump(df, f)"
   ],
   "metadata": {
    "collapsed": false
   }
  },
  {
   "cell_type": "code",
   "execution_count": 14,
   "outputs": [],
   "source": [
    "with open('./data/no_checkout.bin', 'wb') as f:\n",
    "    pickle.dump(no_checkout, f)"
   ],
   "metadata": {
    "collapsed": false
   }
  },
  {
   "cell_type": "code",
   "execution_count": 15,
   "outputs": [],
   "source": [
    "with open('./data/df_no_transition.bin', 'wb') as f:\n",
    "    pickle.dump(df_no_transition, f)"
   ],
   "metadata": {
    "collapsed": false
   }
  }
 ],
 "metadata": {
  "kernelspec": {
   "display_name": "Python 3",
   "language": "python",
   "name": "python3"
  },
  "language_info": {
   "codemirror_mode": {
    "name": "ipython",
    "version": 2
   },
   "file_extension": ".py",
   "mimetype": "text/x-python",
   "name": "python",
   "nbconvert_exporter": "python",
   "pygments_lexer": "ipython2",
   "version": "2.7.6"
  }
 },
 "nbformat": 4,
 "nbformat_minor": 0
}
